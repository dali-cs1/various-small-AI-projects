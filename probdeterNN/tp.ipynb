{
 "cells": [
  {
   "cell_type": "code",
   "id": "initial_id",
   "metadata": {
    "collapsed": true,
    "ExecuteTime": {
     "end_time": "2024-10-23T10:25:00.261290Z",
     "start_time": "2024-10-23T10:25:00.257981Z"
    }
   },
   "source": "import numpy as np",
   "outputs": [],
   "execution_count": 1
  },
  {
   "metadata": {
    "ExecuteTime": {
     "end_time": "2024-10-23T10:28:05.847585Z",
     "start_time": "2024-10-23T10:28:05.843887Z"
    }
   },
   "cell_type": "code",
   "source": [
    "class layer:\n",
    "    def __init__(self,size, activation_function=lambda x: 1 if x>1 else 0):\n",
    "        self.size = size\n",
    "        self.activation_function = activation_function\n",
    "    def __sizeof__(self):\n",
    "        return (self.input_size, self.output_size)"
   ],
   "id": "ab58b0a789a1adb8",
   "outputs": [],
   "execution_count": 2
  },
  {
   "metadata": {},
   "cell_type": "code",
   "outputs": [],
   "execution_count": null,
   "source": [
    "class neural_network:\n",
    "    def __init__(self, input ,layers,weights=[]):\n",
    "        self.input = input\n",
    "        self.layers = layers\n",
    "        if weights == []:\n",
    "            for i in range(self.layers.size):\n",
    "                self.weights.append(np.random.randn(self.layers[i].size, self.layers[i+1].size))\n",
    "        self.activation=[l.activation_function for l in layers]\n",
    "    def forward(self):\n",
    "        output=self.input\n",
    "        for w,a in zip(self.weights,self.activation):\n",
    "            output=np.dot(w,np.transpose(output))\n",
    "            output=np.array([a(x) for x in output])\n",
    "        return output\n",
    "    def backward(self):\n",
    "        \n",
    "        "
   ],
   "id": "2d1cf04772d31df0"
  }
 ],
 "metadata": {
  "kernelspec": {
   "display_name": "Python 3",
   "language": "python",
   "name": "python3"
  },
  "language_info": {
   "codemirror_mode": {
    "name": "ipython",
    "version": 2
   },
   "file_extension": ".py",
   "mimetype": "text/x-python",
   "name": "python",
   "nbconvert_exporter": "python",
   "pygments_lexer": "ipython2",
   "version": "2.7.6"
  }
 },
 "nbformat": 4,
 "nbformat_minor": 5
}
